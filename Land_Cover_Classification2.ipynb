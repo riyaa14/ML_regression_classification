{
  "nbformat": 4,
  "nbformat_minor": 0,
  "metadata": {
    "colab": {
      "provenance": [],
      "authorship_tag": "ABX9TyOK7TOwds3pcEYy8UUt+3m0",
      "include_colab_link": true
    },
    "kernelspec": {
      "name": "python3",
      "display_name": "Python 3"
    },
    "language_info": {
      "name": "python"
    }
  },
  "cells": [
    {
      "cell_type": "markdown",
      "metadata": {
        "id": "view-in-github",
        "colab_type": "text"
      },
      "source": [
        "<a href=\"https://colab.research.google.com/github/riyaa14/ML_regression_classification/blob/main/Land_Cover_Classification2.ipynb\" target=\"_parent\"><img src=\"https://colab.research.google.com/assets/colab-badge.svg\" alt=\"Open In Colab\"/></a>"
      ]
    },
    {
      "cell_type": "code",
      "execution_count": 1,
      "metadata": {
        "colab": {
          "base_uri": "https://localhost:8080/"
        },
        "id": "NX9wbKdKJCVQ",
        "outputId": "5427eb1f-65c0-47df-fefc-66199df78dd9"
      },
      "outputs": [
        {
          "output_type": "stream",
          "name": "stdout",
          "text": [
            "Mounted at /content/drive\n"
          ]
        }
      ],
      "source": [
        "from google.colab import drive\n",
        "drive.mount('/content/drive')"
      ]
    },
    {
      "cell_type": "code",
      "source": [
        "!cp '/content/drive/MyDrive/Land_Cover_Data/dataset.zip' '/content/'\n",
        "!unzip -q '/content/dataset.zip' -d '/content/dataset'\n",
        "import os\n",
        "\n",
        "dataset_path = '/content/dataset/2750'\n",
        "train_path = '/content/train'\n",
        "test_path = '/content/test'\n",
        "\n",
        "LABELS = os.listdir(dataset_path)\n",
        "print(LABELS)"
      ],
      "metadata": {
        "colab": {
          "base_uri": "https://localhost:8080/"
        },
        "id": "m-BnM2AZJXjl",
        "outputId": "b7407100-42cf-4a49-faca-897e7c81ca59"
      },
      "execution_count": 2,
      "outputs": [
        {
          "output_type": "stream",
          "name": "stdout",
          "text": [
            "['Residential', 'SeaLake', 'Pasture', 'River', 'AnnualCrop', 'HerbaceousVegetation', 'Highway', 'Industrial', 'Forest', 'PermanentCrop']\n"
          ]
        }
      ]
    },
    {
      "cell_type": "code",
      "source": [
        "# creating test and train directories\n",
        "for path in (train_path, test_path):\n",
        "    if not os.path.exists(path):\n",
        "        os.mkdir(path)\n",
        "\n",
        "# creating subdirectories (labels) in train and test directories\n",
        "for l in LABELS:\n",
        "\n",
        "    if not os.path.exists(os.path.join(train_path, l)):\n",
        "        os.mkdir(os.path.join(train_path, l))\n",
        "\n",
        "    if not os.path.exists(os.path.join(test_path, l)):\n",
        "        os.mkdir(os.path.join(test_path, l))"
      ],
      "metadata": {
        "id": "RzM6JGb6J3jz"
      },
      "execution_count": 3,
      "outputs": []
    },
    {
      "cell_type": "code",
      "source": [
        "img_paths = {}\n",
        "\n",
        "for l in LABELS:\n",
        "  IMG = os.listdir(dataset_path + '/' + l)\n",
        "  for i in IMG:\n",
        "    img_paths.update({os.path.join(dataset_path, l, i): l})\n",
        "\n",
        "import pandas as pd\n",
        "import shutil\n",
        "from tqdm import tqdm\n",
        "import re\n",
        "from sklearn.model_selection import StratifiedShuffleSplit\n",
        "\n",
        "X = pd.Series(list(img_paths.keys()))\n",
        "y = pd.get_dummies(pd.Series(img_paths.values())) # one hot encoding of labels\n",
        "\n",
        "# splitting the data\n",
        "split = StratifiedShuffleSplit(n_splits=1, test_size=0.25, random_state=69)\n",
        "for train_idx, test_idx in split.split(X, y):\n",
        "\n",
        "    train_paths = X[train_idx]\n",
        "    test_paths = X[test_idx]\n",
        "    train_paths = list(train_paths)\n",
        "    test_paths = list(test_paths)\n",
        "\n",
        "\n",
        "    # defining a new path for each image depending on training or testing.\n",
        "    # original file path eg: /content/dataset/2750/AnnualCrop/AnnualCrop_1063.jpg\n",
        "    # after modification eg: /content/train/AnnualCrop/AnnualCrop_1063.jpg\n",
        "    new_train_paths = [re.sub('dataset/2750', 'train', i) for i in train_paths]\n",
        "    new_test_paths = [re.sub('dataset/2750', 'test', i) for i in test_paths]\n",
        "\n",
        "    train_path_map = list((zip(train_paths, new_train_paths)))\n",
        "    test_path_map = list((zip(test_paths, new_test_paths)))\n",
        "\n",
        "    # moving files in test and train folders\n",
        "    print(\"moving training files..\")\n",
        "    for i in tqdm(train_path_map):\n",
        "        if not os.path.exists(i[1]):\n",
        "            if not os.path.exists(re.sub('train', 'test', i[1])):\n",
        "                shutil.copy(i[0], i[1])\n",
        "\n",
        "    print(\"moving testing files..\")\n",
        "    for i in tqdm(test_path_map):\n",
        "        if not os.path.exists(i[1]):\n",
        "            if not os.path.exists(re.sub('train', 'test', i[1])):\n",
        "                shutil.copy(i[0], i[1])"
      ],
      "metadata": {
        "colab": {
          "base_uri": "https://localhost:8080/"
        },
        "id": "-QjZZmUnJ8ru",
        "outputId": "d0bd371e-4b01-4251-efca-ec5c46b912ec"
      },
      "execution_count": 21,
      "outputs": [
        {
          "output_type": "stream",
          "name": "stdout",
          "text": [
            "moving training files..\n"
          ]
        },
        {
          "output_type": "stream",
          "name": "stderr",
          "text": [
            "100%|██████████| 20196/20196 [00:03<00:00, 5515.31it/s]\n"
          ]
        },
        {
          "output_type": "stream",
          "name": "stdout",
          "text": [
            "moving testing files..\n"
          ]
        },
        {
          "output_type": "stream",
          "name": "stderr",
          "text": [
            "100%|██████████| 6732/6732 [00:01<00:00, 3792.65it/s]\n"
          ]
        }
      ]
    },
    {
      "cell_type": "code",
      "source": [
        "# processing image data using keras ImageDataGenerator\n",
        "from keras.preprocessing.image import ImageDataGenerator\n",
        "\n",
        "rf_gen = ImageDataGenerator(rescale=1./255)\n",
        "\n",
        "rf_train_gen = rf_gen.flow_from_directory(\n",
        "    directory='/content/train',\n",
        "    target_size=(64, 64),\n",
        "    batch_size=20196,\n",
        "    class_mode='categorical',\n",
        "    color_mode='rgb',\n",
        "    shuffle=False,\n",
        "    seed=7\n",
        ")\n",
        "\n",
        "rf_test_gen = rf_gen.flow_from_directory(\n",
        "    directory='/content/test',\n",
        "    target_size=(64, 64),\n",
        "    batch_size=6732,\n",
        "    class_mode='categorical',\n",
        "    color_mode='rgb',\n",
        "    shuffle=False,\n",
        "    seed=7\n",
        ")\n",
        "\n",
        "train = rf_train_gen.next()\n",
        "test = rf_test_gen.next()\n",
        "\n",
        "X_train = train[0].reshape(20196, 12288) # reshape is for onversion from 4D to 2D array\n",
        "X_test = test[0].reshape(6732, 12288)\n",
        "\n",
        "y_train = train[1]\n",
        "y_test = test[1]\n",
        "\n",
        "X_train"
      ],
      "metadata": {
        "colab": {
          "base_uri": "https://localhost:8080/"
        },
        "id": "0bHx4LOnMPMA",
        "outputId": "f01dcc0f-7b62-469a-da02-c3dbfee9c5ab"
      },
      "execution_count": 25,
      "outputs": [
        {
          "output_type": "stream",
          "name": "stdout",
          "text": [
            "Found 20196 images belonging to 10 classes.\n",
            "Found 6732 images belonging to 10 classes.\n"
          ]
        },
        {
          "output_type": "execute_result",
          "data": {
            "text/plain": [
              "array([[0.32941177, 0.39607847, 0.45882356, ..., 0.5921569 , 0.49803925,\n",
              "        0.54901963],\n",
              "       [0.5529412 , 0.43529415, 0.4431373 , ..., 0.48235297, 0.45098042,\n",
              "        0.43921572],\n",
              "       [0.70980394, 0.5529412 , 0.5137255 , ..., 0.18431373, 0.27450982,\n",
              "        0.29803923],\n",
              "       ...,\n",
              "       [0.12156864, 0.21568629, 0.30980393, ..., 0.11764707, 0.21176472,\n",
              "        0.32156864],\n",
              "       [0.21176472, 0.2784314 , 0.31764707, ..., 0.21176472, 0.2901961 ,\n",
              "        0.3254902 ],\n",
              "       [0.4039216 , 0.3921569 , 0.427451  , ..., 0.37647063, 0.37647063,\n",
              "        0.4156863 ]], dtype=float32)"
            ]
          },
          "metadata": {},
          "execution_count": 25
        }
      ]
    },
    {
      "cell_type": "code",
      "source": [
        "from sklearn import ensemble\n",
        "from sklearn.metrics import accuracy_score\n",
        "import numpy as np\n",
        "\n",
        "rf_clf = ensemble.RandomForestClassifier(n_estimators=30, n_jobs=-1, random_state=42)\n",
        "\n",
        "# Randomly sampling indices to create a mini-batch\n",
        "ids = np.random.choice(len(X_train), size=20196, replace=False)\n",
        "\n",
        "# Creating a mini-batch\n",
        "X_mini_batch = X_train[ids]\n",
        "y_mini_batch = rf_train_gen.classes[ids]\n",
        "\n",
        "# Performing training on the mini-batch\n",
        "rf_clf.fit(X_mini_batch, y_mini_batch)\n",
        "\n",
        "y_pred = rf_clf.predict(X_test)\n",
        "acc = accuracy_score(y_pred, rf_test_gen.classes)\n",
        "print(\"Accuracy Score: {0:.4}\".format(acc))"
      ],
      "metadata": {
        "colab": {
          "base_uri": "https://localhost:8080/"
        },
        "id": "7bYHfLaMs3xa",
        "outputId": "26abee3c-da68-4b5d-f237-807efb7b8e78"
      },
      "execution_count": 44,
      "outputs": [
        {
          "output_type": "stream",
          "name": "stdout",
          "text": [
            "Accuracy Score: 0.6344\n"
          ]
        }
      ]
    },
    {
      "cell_type": "markdown",
      "source": [
        "## Hyperparameter Tuning\n"
      ],
      "metadata": {
        "id": "h9tToy0myD_d"
      }
    },
    {
      "cell_type": "code",
      "source": [
        "from sklearn.model_selection import GridSearchCV\n",
        "\n",
        "param_grid = {\n",
        "    'n_estimators': [25, 30],\n",
        "    'max_depth': [None, 20, 10, 15]\n",
        "}\n",
        "\n",
        "rf_clf = ensemble.RandomForestClassifier(random_state=42)\n",
        "grid_search = GridSearchCV(estimator=rf_clf, param_grid=param_grid, cv=3, scoring='accuracy', n_jobs=-1)\n",
        "\n",
        "for epoches in range(5):\n",
        "    ids = np.random.choice(len(X_train), size=1000, replace=False)\n",
        "    X_mini_batch = X_train[ids]\n",
        "    y_mini_batch = rf_train_gen.classes[ids]\n",
        "\n",
        "    grid_search.fit(X_mini_batch, y_mini_batch)\n",
        "    best_params = grid_search.best_params_\n",
        "    print(\"Best Hyperparameters:\", best_params)\n",
        "\n",
        "# Prediction\n",
        "best_rf_clf = grid_search.best_estimator_\n",
        "y_pred = best_rf_clf.predict(X_test)\n",
        "acc = accuracy_score(y_pred, rf_test_gen.classes)\n",
        "print(\"Accuracy Score: {0:.4}\".format(acc))"
      ],
      "metadata": {
        "colab": {
          "base_uri": "https://localhost:8080/"
        },
        "id": "EHPUr1-lweuf",
        "outputId": "3b5da865-f869-4cc4-b6bf-5135c59ccc9e"
      },
      "execution_count": 43,
      "outputs": [
        {
          "output_type": "stream",
          "name": "stdout",
          "text": [
            "Best Hyperparameters: {'max_depth': 10, 'n_estimators': 30}\n",
            "Best Hyperparameters: {'max_depth': 10, 'n_estimators': 30}\n",
            "Best Hyperparameters: {'max_depth': 10, 'n_estimators': 30}\n",
            "Best Hyperparameters: {'max_depth': 15, 'n_estimators': 30}\n",
            "Best Hyperparameters: {'max_depth': 15, 'n_estimators': 30}\n",
            "Accuracy Score: 0.5107\n"
          ]
        }
      ]
    }
  ]
}